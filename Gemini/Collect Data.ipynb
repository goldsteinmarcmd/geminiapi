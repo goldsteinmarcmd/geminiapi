{
 "cells": [
  {
   "cell_type": "code",
   "execution_count": 10,
   "metadata": {},
   "outputs": [],
   "source": [
    "import pandas as pd\n",
    "import requests\n",
    "import time\n",
    "import sched\n",
    "import urllib"
   ]
  },
  {
   "cell_type": "code",
   "execution_count": 4,
   "metadata": {},
   "outputs": [],
   "source": [
    "#Needs to be Json\n",
    "\n",
    "Content-Length \t0\n",
    "Content-Type \ttext/plain\n",
    "X-GEMINI-APIKEY \tYour Gemini API key\n",
    "X-GEMINI-PAYLOAD \tThe base64-encoded JSON payload\n",
    "X-GEMINI-SIGNATURE \thex(HMAC_SHA384(base64(payload), key=api_secret))\n",
    "url = \"https://api.gemini.com/v1/pubticker/:btcusd\"\n",
    "heartbeat = https://api.gemini.com/v1/heartbeat"
   ]
  },
  {
   "cell_type": "code",
   "execution_count": 8,
   "metadata": {
    "collapsed": true
   },
   "outputs": [],
   "source": [
    "# List for holding highest bid currently available, lowest ask currently available, \n",
    "# price of the last executed trade, timestamp, coin pairing(symbol), 24 hour volume \n",
    "highest_bid = []\n",
    "lowest_ask = []\n",
    "last_ex_trade = []\n",
    "timestamp = []\n",
    "symbol = []\n",
    "day_volume = []\n",
    "timestamp_day_volume = []\n",
    "price_symbol_day_volume = []\n",
    "qunatity_symbol_day_volume = []\n",
    "s = sched.scheduler(time.time, time.sleep)"
   ]
  },
  {
   "cell_type": "code",
   "execution_count": 7,
   "metadata": {},
   "outputs": [],
   "source": [
    "POST heartbeat\n",
    "GET url\n",
    "# List of city data\n",
    "pull_data = []\n",
    "\n",
    "# Print to logger\n",
    "print(\"Beginning Data Retrieval     \")\n",
    "print(\"-----------------------------\")\n",
    "\n",
    "# Create counters\n",
    "record_count = 1\n",
    "set_count = 1\n",
    "\n",
    "# Loop through all the cities in our list\n",
    "for i, symbol in enumerate(ticker):\n",
    "        \n",
    "    # Group cities in sets of 50 for logging purposes\n",
    "    if (i % 50 == 0 and i >= 50):\n",
    "        set_count += 1\n",
    "        record_count = 0\n",
    "\n",
    "    # Log the url, record, and set numbers\n",
    "    print(\"Processing Record %s of Set %s | %s\" % (record_count, set_count, city))\n",
    "    print(city_url)\n",
    "\n",
    "    # Add 1 to the record count\n",
    "    record_count += 1\n",
    "\n",
    "    # Run an API request for each of the cities\n",
    "    try:\n",
    "        # Parse the JSON and retrieve data\n",
    "        pull = requests.get(url).json()\n",
    "\n",
    "        # Parse out the max temp, humidity, and cloudiness\n",
    "        highest_bid = pull[\"bid\"]\n",
    "        lowest_ask = pull[\"ask\"]\n",
    "        last_ex_trade = pull[\"last\"]\n",
    "        timestamp_day_volume = pull[\"volume\"][\"timestamp\"]\n",
    "        price_symbol_day_volume = pull[\"volume\"][\"USD\"]\n",
    "        quantity_symbol_day_volume = pull[\"volume\"][\"USD\"]\n",
    "\n",
    "        # Append the City information into city_data list\n",
    "        pull_data.append({\"highest_bid\": highest_bid, \n",
    "                          \"lowest_ask\": lowest_ask, \n",
    "                          \"last_trade\": last_ex_trade, \n",
    "                          \"24_hour_volume_date\": timestamp_day_volume,\n",
    "                          \"24_hour_volume_price\": price_symbol_day_volume,\n",
    "                          \"24_hour_volume_quantity\": quantity_symbol_day_volume\n",
    "\n",
    "    # If an error is experienced, skip the city\n",
    "    except:\n",
    "        print(\"City not found. Skipping...\")\n",
    "        pass\n",
    "              \n",
    "# Indicate that Data Loading is complete \n",
    "print(\"-----------------------------\")\n",
    "print(\"Data Retrieval Complete      \")\n",
    "print(\"-----------------------------\")\n",
    "   \n",
    "    #run every minute\n",
    "        s.enter(60, 1, do_something, (sc,))\n",
    "\n",
    "s.enter(60, 1, do_something, (s,))\n",
    "s.run()\n",
    "      "
   ]
  },
  {
   "cell_type": "code",
   "execution_count": null,
   "metadata": {
    "collapsed": true
   },
   "outputs": [],
   "source": [
    "# Convert array of JSONs into Pandas DataFrame\n",
    "price_pd = pd.DataFrame(pull_data)\n",
    "\n",
    "# Extract relevant fields from the data frame\n",
    "highest_bid = price_pd[\"highest_bid\"]\n",
    "lowest_ask = city_data_pd[\"lowest_ask\"]\n",
    "last_trade = city_data_pd[\"last_trade\"]\n",
    "timestamp_day_volume = city_data_pd[\"24_hour_volume_date\"]\n",
    "price_symbol_day_volume = city_data_pd[\"24_hour_volume_price\"]\n",
    "quantity_symbol_day_volume = city_data_pd[\"24_hour_volume_quantity\"]\n",
    "\n",
    "# Export the City_Data into a csv\n",
    "price_pd.to_csv(output_data_file, index_label=\"Price_ID\")\n",
    "\n",
    "# Show Record Count\n",
    "price_pd.count()"
   ]
  },
  {
   "cell_type": "code",
   "execution_count": null,
   "metadata": {
    "collapsed": true
   },
   "outputs": [],
   "source": [
    "price_pd.head()"
   ]
  }
 ],
 "metadata": {
  "kernelspec": {
   "display_name": "Python 3",
   "language": "python",
   "name": "python3"
  },
  "language_info": {
   "codemirror_mode": {
    "name": "ipython",
    "version": 3
   },
   "file_extension": ".py",
   "mimetype": "text/x-python",
   "name": "python",
   "nbconvert_exporter": "python",
   "pygments_lexer": "ipython3",
   "version": "3.6.3"
  }
 },
 "nbformat": 4,
 "nbformat_minor": 2
}
