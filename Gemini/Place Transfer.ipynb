{
 "cells": [
  {
   "cell_type": "code",
   "execution_count": 2,
   "metadata": {
    "collapsed": true
   },
   "outputs": [],
   "source": [
    "import pandas as pd\n",
    "import requests\n",
    "import time\n",
    "import sched\n",
    "import urllib"
   ]
  },
  {
   "cell_type": "code",
   "execution_count": null,
   "metadata": {
    "collapsed": true
   },
   "outputs": [],
   "source": [
    "url = \"https://api.gemini.com/v1/withdraw/:btcusd\" + \"/amount \" + amount_to_transfer + \"/address=\" + whitelistaddress + \"/client_order_id\"\n",
    "Content-Length \t0\n",
    "Content-Type \ttext/plain\n",
    "X-GEMINI-APIKEY \tYour Gemini API key\n",
    "X-GEMINI-PAYLOAD \tThe base64-encoded JSON payload\n",
    "X-GEMINI-SIGNATURE \thex(HMAC_SHA384(base64(payload), key=api_secret))\n",
    "heartbeat = https://api.gemini.com/v1/heartbeat"
   ]
  },
  {
   "cell_type": "code",
   "execution_count": null,
   "metadata": {
    "collapsed": true
   },
   "outputs": [],
   "source": [
    "POST url"
   ]
  }
 ],
 "metadata": {
  "kernelspec": {
   "display_name": "Python 3",
   "language": "python",
   "name": "python3"
  },
  "language_info": {
   "codemirror_mode": {
    "name": "ipython",
    "version": 3
   },
   "file_extension": ".py",
   "mimetype": "text/x-python",
   "name": "python",
   "nbconvert_exporter": "python",
   "pygments_lexer": "ipython3",
   "version": "3.6.3"
  }
 },
 "nbformat": 4,
 "nbformat_minor": 2
}
